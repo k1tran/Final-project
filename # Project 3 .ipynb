{
 "cells": [
  {
   "cell_type": "markdown",
   "metadata": {},
   "source": [
    "# Project 3 "
   ]
  },
  {
   "cell_type": "markdown",
   "metadata": {},
   "source": [
    "# Scientific Question:  Is there a common ancestor with the Périgord black truffle (Tuber melanosporum) and Homo Sapiens?"
   ]
  },
  {
   "cell_type": "markdown",
   "metadata": {},
   "source": [
    "Housekeeping genes are constitutively active genes that perform basal cellular functions that are required for the cell to properly function. In order for eukaryotic organisms to perform essential cellular duties, specific molecular genes are conserved along their evolutionary lineage to properly function within their respective ecosystem. 18S rRNA is a gene used to indicate the cell number in order to derive the standardization in gene expression analysis. Elongation Factor 1 alpha is another housekeeping gene that can guage lineage because of its enzymatic functional delivery of aminoacyl tRNAs to the ribosome, which is needed in the central dogma of biology.\n",
    "\n",
    "Phylogeny is the study of relationships among organisms and their evolutionary divergences from one another. By connecting species together and finding common ancestry, biologists are able to get an idea of a possible traits, symbiosis, and medicinal  that have yet to be seen in the molecular studies of the species. These relationships can be mapped out by mnitoring the significant changes in the sequencing of these housekeping and looking at continuities and differences via a NCBI BLAST gene database (https://blast.ncbi.nlm.nih.gov/Blast.cgi) \n",
    "\n",
    "\"NCBI gene is a searchable database of genes, focusing on genomes that have been completely sequenced and that have an active research community to contribute gene-specific data. Information includes nomenclature, chromosomal localization, gene products and their attributes (e.g., protein interactions), associated markers, phenotypes, interactions, and links to citations, sequences, variation details, maps, expression reports, homologs, protein domain content, and external databases.\""
   ]
  },
  {
   "cell_type": "markdown",
   "metadata": {},
   "source": [
    "# Scientific Hypothesis: If the proteins of interest (18S rRNA and EF1 alpha) from the NCBI database between the two species demonstrate a statistically significant sequence similarity, then the protein gene sequence can be used to retrace the lineage to choanoflagellates. \n",
    "\n",
    "A link between these two species that can be retraced down a phylogenetic tree visual representation via a NCBI BLAST orgin focus. If a common ancestor between tuber melanosporum and homo sapiens exists, then it would most likely be choanoflagellates because this species demonstrates the most earliest traits associated with homo sapiens (the devlopment of villi, mitochondria,....) . This is due to the fact that by using their sequenced genome and conserved protein relationships of each respective species via BLAST, the lineage of their evolutionary history can be approximated in the respect to the current knowledge barriers of the database (derived from NCBI). In order to derive accurate molecular homology  readings, sequence alignments of conserved, housekeeping genes (16S rRNA and EF-l alpha) of these two species will be used to generate a similarity percentage between these species. This data will then be processed to retrace and map the phylogenetic relationships to derive the most common ancestors based on gene homology.\n",
    "\n",
    "This question was answered by downloading FASTA files from the NCBI gene database that contain the sequences of the protein of interest. The data was then imported into the program via a neighboring file."
   ]
  },
  {
   "cell_type": "markdown",
   "metadata": {},
   "source": [
    "# Part 1: Load the Packages"
   ]
  },
  {
   "cell_type": "markdown",
   "metadata": {},
   "source": [
    "os: portable way of using operating system dependent functionality\n",
    "Bio: helps with the dealing of biological data in Python."
   ]
  },
  {
   "cell_type": "code",
   "execution_count": 1,
   "metadata": {},
   "outputs": [
    {
     "name": "stdout",
     "output_type": "stream",
     "text": [
      "Requirement already satisfied: Biopython in c:\\users\\kevin\\anaconda3\\lib\\site-packages (1.78)\n",
      "Requirement already satisfied: numpy in c:\\users\\kevin\\anaconda3\\lib\\site-packages (from Biopython) (1.19.2)\n"
     ]
    }
   ],
   "source": [
    "!pip install Biopython"
   ]
  },
  {
   "cell_type": "code",
   "execution_count": 31,
   "metadata": {},
   "outputs": [],
   "source": [
    "import os\n",
    "from Bio import SeqIO\n",
    "from Bio.Align.Applications import ClustalwCommandline\n",
    "from Bio import Phylo\n",
    "from Bio import AlignIO"
   ]
  },
  {
   "cell_type": "markdown",
   "metadata": {},
   "source": [
    "#  Part 2: Load in the data and perform Bioinformatics Analyses (Sequence Allginments & Similarity Analyses)"
   ]
  },
  {
   "cell_type": "markdown",
   "metadata": {},
   "source": [
    "Within each FASTA file, the sequencing data for both the genes of the proteins will be loaded into a variable storage. Once this is complete. The code will then see if the sequences are numerically capable of being compared to one another. Then BLAST will be imported from biopython to compare and output a similarity report about the sequences. "
   ]
  },
  {
   "cell_type": "code",
   "execution_count": 16,
   "metadata": {},
   "outputs": [
    {
     "name": "stdout",
     "output_type": "stream",
     "text": [
      "clustalw2 -infile=<_io.TextIOWrapper name='18s rRNA.fasta.txt' mode='r' encoding='cp932'>\n",
      "clustalw2 -infile=<_io.TextIOWrapper name='Elongation factor.fasta.txt' mode='r' encoding='cp932'>\n"
     ]
    }
   ],
   "source": [
    "#open files and directs clustal w to where the files are\n",
    "File18=open(\"18s rRNA.fasta.txt\")\n",
    "FileEF=open(\"Elongation factor.fasta.txt\")\n",
    "clustalw_clineA= ClustalwCommandline(\"clustalw2\", infile=File18)\n",
    "clustalw_clineB= ClustalwCommandline(\"clustalw2\", infile=FileEF)\n",
    "print(clustalw_clineA)\n",
    "print(clustalw_clineB)"
   ]
  },
  {
   "cell_type": "code",
   "execution_count": 29,
   "metadata": {},
   "outputs": [
    {
     "name": "stdout",
     "output_type": "stream",
     "text": [
      "\"C:\\Program Files (x86)\\ClustalW2\\clustalw2.exe\" -infile=\"18s rRNA.fasta.txt\"\n",
      "\"C:\\Program Files (x86)\\ClustalW2\\clustalw2.exe\" -infile=\"Elongation factor.fasta.txt\"\n"
     ]
    }
   ],
   "source": [
    "#Retrieves FASTA files from the clustalw folder and puts them process them with clustalw \n",
    "clustalw_exe = r\"C:\\Program Files (x86)\\ClustalW2\\clustalw2.exe\"\n",
    "clustalw_clineA = ClustalwCommandline(clustalw_exe, infile = \"18s rRNA.fasta.txt\")\n",
    "clustalw_clineB = ClustalwCommandline(clustalw_exe, infile = \"Elongation factor.fasta.txt\")\n",
    "assert os.path.isfile(clustalw_exe), \"Clustal_W executable is missing or not found\"\n",
    "stdout, stderr = clustalw_clineA()\n",
    "stdout, stderr = clustalw_clineB()\n",
    "print(clustalw_clineA)\n",
    "print(clustalw_clineB)"
   ]
  },
  {
   "cell_type": "code",
   "execution_count": 32,
   "metadata": {},
   "outputs": [
    {
     "name": "stdout",
     "output_type": "stream",
     "text": [
      "Alignment with 10 rows and 619 columns\n",
      "-DKDFMHCRNEWQIYFFDEPFEQCERYQIAWPAPAFYNMDMWFM...--- Canis\n",
      "-QEKFLDVGATGRWDEDTVCLNVFNIMHWQYVSHQGFISSIWGF...--- choanoflagellates\n",
      "-------CFWDHTMYKTELPCGEMFENHRAQKLGLGLTVHTWYP...MVK Homo\n",
      "------AEHFPRALPKCRQGFAQLIDELVYMRATHMTSFQDMVL...--- Callorhinus\n",
      "---------KPVAWQILIWLPLQDTHIPAMYMLIVNTTCARCYE...--- Zalophus\n",
      "LHWRNMENDNMYYFQGSVVSAGTLVDPDNQQVEDCVRKVHNQTY...--- Tuber\n",
      "--------KKAWALSICMFYMRTCNGLKKSHAYLWVWTYTCVEL...--- Mirounga\n",
      "-----------NCRMRFAQDYDRYDDKSLWVQTATGCSMMHWER...--- Octodon\n",
      "-----VSTAQWWDRAHWPMDMHTVCSKSLDQTEPDLDIYNLGMK...--- Heterocephalus\n",
      "-------FAEDSYTVIVFPRLGEHPHHLMGKLWAMLTGTFVRHH...--- Phoca\n",
      "Alignment with 10 rows and 1385 columns\n",
      "---------NANTKYYIGWEKPWETLMPGQQKEHVLYLRDQKAQ...--- Phoca\n",
      "----------IRKQRDGIWQKQGCAEFQFCHQDHELQT--MVPN...R-- Octodon\n",
      "WSAYTYILCQFLNVSSWQWRFMWLSEFRKQQTMSTLRVKNYNYQ...--- Tuber\n",
      "--------------------IFILALCSSCGLTHMNQYLVAHVA...YDI Zalophus\n",
      "----THFREKMPCTICLYAPICSYNRCWTAGCMWNHRMYWEVRS...FQI Canis\n",
      "-------QTDDPITGAADWVCCIVYRNIDLNGCSEKPVFYHSCR...NK- Homo\n",
      "-------------------IEIRHIVPNNCGEENVQFAHFAGLV...--- Heterocephalus\n",
      "------------------------------NIAHMDGEEYQLGR...VWI Mirounga\n",
      "-LLWRFRFFNAKRAADYDWNHLTYEANMYEWVVPANWVNYYWYV...--- choanoflagellates\n",
      "--------------TWVMHCQQCNVRRDLCETMNCHYAFYEIKP...GMM Callorhinus\n"
     ]
    }
   ],
   "source": [
    "#Generate Alignment output\n",
    "ClustalAlignA = AlignIO.read(\"18s rRNA.fasta.aln\", \"clustal\")\n",
    "ClustalAlignB = AlignIO.read(\"Elongation factor.fasta.aln\", \"clustal\")\n",
    "print(ClustalAlignA)\n",
    "print(ClustalAlignB)\n"
   ]
  },
  {
   "cell_type": "markdown",
   "metadata": {},
   "source": [
    "# Part 3: Create a Phylogenetic Tree showing evolutionary lineage."
   ]
  },
  {
   "cell_type": "markdown",
   "metadata": {},
   "source": [
    "Here we use biopython to create a Phylogenetic tree that is printed below. The axis of time are represented on the x-axis and the end of each branch represents a species. The commas represent a node or branch point. In this code, two graphics (EF and 18s rRNA) were produced to examine evolutionary relationships. By retracing the lineage and representing the data this way, it can be used to determine common ancestors,convergent evolution, homologies. "
   ]
  },
  {
   "cell_type": "code",
   "execution_count": 36,
   "metadata": {},
   "outputs": [
    {
     "name": "stdout",
     "output_type": "stream",
     "text": [
      "18s RNA Tree\n",
      "    ______________________________________________________ Tuber\n",
      "  ,|\n",
      " ,||______________________________________________________ Octodon\n",
      " ||\n",
      " ||______________________________________________________ Mirounga\n",
      " |\n",
      " | ______________________________________________________ Homo\n",
      " ,|\n",
      " ||_______________________________________________________ Callorhinus\n",
      " |\n",
      " |  ______________________________________________________ Canis\n",
      "_|,|\n",
      " |||______________________________________________________ choanoflagellates\n",
      " ||\n",
      " ||________________________________________________________ Phoca\n",
      " |\n",
      " |______________________________________________________ Zalophus\n",
      " |\n",
      " |______________________________________________________ Heterocephalus\n",
      "\n",
      "Elongation Factor 1 alpha \n",
      "  ________________________________________________________ Tuber\n",
      " |\n",
      " | _______________________________________________________ Homo\n",
      " ,|\n",
      " ||_______________________________________________________ Heterocephalus\n",
      " |\n",
      " | _______________________________________________________ Zalophus\n",
      " ||\n",
      " ||_______________________________________________________ Canis\n",
      "_|\n",
      " | _______________________________________________________ Mirounga\n",
      " ,|\n",
      " ||_______________________________________________________ choanoflagellates\n",
      " |\n",
      " | _______________________________________________________ Phoca\n",
      " ||\n",
      " ||________________________________________________________ Octodon\n",
      " |\n",
      " |_______________________________________________________ Callorhinus\n",
      "\n"
     ]
    }
   ],
   "source": [
    "# Generate Phylogenetic (Tree) output\n",
    "#Create title\n",
    "print(\"18s RNA Tree\")\n",
    "#Biopython directed to read the sequence alligned file\n",
    "tree18 = Phylo.read(\"18s rRNA.fasta.dnd\", \"newick\")\n",
    "#Biopython draws tree\n",
    "Phylo.draw_ascii(tree18)\n",
    "#Create title\n",
    "print(\"Elongation Factor 1 alpha \")\n",
    "#Biopython draws tree\n",
    "treeEF = Phylo.read(\"Elongation factor.fasta.dnd\", \"newick\")\n",
    "Phylo.draw_ascii(treeEF)"
   ]
  },
  {
   "cell_type": "markdown",
   "metadata": {},
   "source": [
    "# Part 4 Analysis of the results"
   ]
  },
  {
   "cell_type": "markdown",
   "metadata": {},
   "source": [
    "The two graphics illustrate the evolutionary relationship between the black perigold truffle and homo sapiens. As seen in the graphics, the tree tells very different stories about the lineage of these two species. From the 18s RNA tree, it is determined that the tuber melonsporum is more evolutionarily similar to Octodon than to a homo sapien. The common ancestor to these species would then have to be retraced to the ancestor the progenated Homo Sapiens and Callorhinus. From the Elongation factor tree, it is determined that the tuber melonsporum is more evolutionarily similar to the homo sapiens and Heterocephalus. The common ancestor to these species would then have to be retraced to the ancestor the progenated homo sapiens and Heterocephalus. These datasets tell different stories. Thus, my hypothesis was proven wrong because the phylogenetic trees have shown that the protein sequences do not show a drastic relationship to choanoflagellates. This could possibily be due to the difference in gene sequences, and how long it took for the organism to gain it. A possible exploration that this dataset could provide is adding more species to be compared. "
   ]
  }
 ],
 "metadata": {
  "kernelspec": {
   "display_name": "Python 3",
   "language": "python",
   "name": "python3"
  },
  "language_info": {
   "codemirror_mode": {
    "name": "ipython",
    "version": 3
   },
   "file_extension": ".py",
   "mimetype": "text/x-python",
   "name": "python",
   "nbconvert_exporter": "python",
   "pygments_lexer": "ipython3",
   "version": "3.8.5"
  }
 },
 "nbformat": 4,
 "nbformat_minor": 4
}
